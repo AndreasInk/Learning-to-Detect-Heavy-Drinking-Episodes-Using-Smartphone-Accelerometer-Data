{
  "nbformat": 4,
  "nbformat_minor": 0,
  "metadata": {
    "colab": {
      "name": "Support Vector Machines and Logistic Regression - Experiments",
      "provenance": []
    },
    "kernelspec": {
      "name": "python3",
      "display_name": "Python 3"
    }
  },
  "cells": [
    {
      "cell_type": "code",
      "metadata": {
        "id": "Sf3GfOANBe7t",
        "colab_type": "code",
        "colab": {}
      },
      "source": [
        "import pandas as pd\n",
        "import numpy as np\n",
        "from sklearn.model_selection import train_test_split\n",
        "from sklearn.neural_network import MLPClassifier\n",
        "from sklearn.metrics import accuracy_score\n",
        "from sklearn.model_selection import KFold\n",
        "from sklearn.ensemble import AdaBoostClassifier\n",
        "from sklearn.naive_bayes import GaussianNB\n",
        "from sklearn.linear_model import SGDClassifier"
      ],
      "execution_count": 0,
      "outputs": []
    },
    {
      "cell_type": "code",
      "metadata": {
        "id": "H5JIDxJbBgpy",
        "colab_type": "code",
        "colab": {
          "base_uri": "https://localhost:8080/",
          "height": 68
        },
        "outputId": "2c2a985e-fd97-41ad-cc38-64c746556b72"
      },
      "source": [
        "from google.colab import drive\n",
        "drive.mount('/gdrive')\n",
        "%cd /gdrive\n",
        "%cd /gdrive/My\\ Drive/CSE512Data"
      ],
      "execution_count": 4,
      "outputs": [
        {
          "output_type": "stream",
          "text": [
            "Drive already mounted at /gdrive; to attempt to forcibly remount, call drive.mount(\"/gdrive\", force_remount=True).\n",
            "/gdrive\n",
            "/gdrive/My Drive/CSE512Data\n"
          ],
          "name": "stdout"
        }
      ]
    },
    {
      "cell_type": "code",
      "metadata": {
        "id": "sn2ZmbPFBh7a",
        "colab_type": "code",
        "colab": {
          "base_uri": "https://localhost:8080/",
          "height": 34
        },
        "outputId": "3165ecf2-481c-4f15-a738-74bd45c6e605"
      },
      "source": [
        "frame = pd.read_csv('mega2.csv')\n",
        "def threshold(value):\n",
        "  def resp(x):\n",
        "    if x >= value:\n",
        "      return 1\n",
        "    else:\n",
        "      return 0\n",
        "  return resp\n",
        "\n",
        "frame['TAC_reading'] = frame['TAC_reading'].apply(threshold(0.08))\n",
        "frame = frame[[x for x in frame.columns if x != 'Unnamed: 0']]\n",
        "frame = frame[[x for x in frame.columns if x != 'pid']]\n",
        "frame = frame[[x for x in frame.columns if x != 'window10']]\n",
        "frame = frame[[x for x in frame.columns if x != 'win_10_x_FFT_spectral_centroid_spread']]\n",
        "frame = frame[[x for x in frame.columns if x != 'win_10_y_FFT_spectral_centroid_spread']]\n",
        "frame = frame[[x for x in frame.columns if x != 'win_10_z_FFT_spectral_centroid_spread']]\n",
        "frame = frame[[x for x in frame.columns if x != 'x_FFT_spectral_centroid_spread']]\n",
        "frame = frame[[x for x in frame.columns if x != 'y_FFT_spectral_centroid_spread']]\n",
        "frame = frame[[x for x in frame.columns if x != 'z_FFT_spectral_centroid_spread']]\n",
        "frame = frame[[x for x in frame.columns if x != 'key']]\n",
        "frame = frame.dropna()\n",
        "frame.shape"
      ],
      "execution_count": 5,
      "outputs": [
        {
          "output_type": "execute_result",
          "data": {
            "text/plain": [
              "(369800, 67)"
            ]
          },
          "metadata": {
            "tags": []
          },
          "execution_count": 5
        }
      ]
    },
    {
      "cell_type": "code",
      "metadata": {
        "id": "0JMCRNE-BjtQ",
        "colab_type": "code",
        "colab": {}
      },
      "source": [
        "x_values, y_values = frame[[x for x in frame.columns if x != 'TAC_reading']].to_numpy(), frame['TAC_reading'].to_numpy()"
      ],
      "execution_count": 0,
      "outputs": []
    },
    {
      "cell_type": "code",
      "metadata": {
        "id": "abkz1-27Bk_3",
        "colab_type": "code",
        "colab": {}
      },
      "source": [
        "kf = KFold(n_splits=10)"
      ],
      "execution_count": 0,
      "outputs": []
    },
    {
      "cell_type": "code",
      "metadata": {
        "id": "BFW56lRcBmae",
        "colab_type": "code",
        "colab": {
          "base_uri": "https://localhost:8080/",
          "height": 187
        },
        "outputId": "32d1f35a-9b15-461f-83bd-45f3342e49f6"
      },
      "source": [
        "for train_index, test_index in kf.split(x_values):\n",
        "  x_test, x_train = x_values[test_index], x_values[train_index]\n",
        "  y_test, y_train = y_values[test_index], y_values[train_index]\n",
        "  clf = GaussianNB()\n",
        "  clf.fit(x_train, y_train)\n",
        "  print('Accuracy Gaussian NB ', accuracy_score(y_test, clf.predict(x_test)))"
      ],
      "execution_count": 8,
      "outputs": [
        {
          "output_type": "stream",
          "text": [
            "Accuracy Gaussian NB  0.727257977285019\n",
            "Accuracy Gaussian NB  0.16722552731206058\n",
            "Accuracy Gaussian NB  0.17431043807463495\n",
            "Accuracy Gaussian NB  0.0622769064359113\n",
            "Accuracy Gaussian NB  0.0\n",
            "Accuracy Gaussian NB  0.5220118983234181\n",
            "Accuracy Gaussian NB  0.4290968090859924\n",
            "Accuracy Gaussian NB  0.2702271498107085\n",
            "Accuracy Gaussian NB  0.3600054083288264\n",
            "Accuracy Gaussian NB  0.08956192536506219\n"
          ],
          "name": "stdout"
        }
      ]
    },
    {
      "cell_type": "code",
      "metadata": {
        "id": "Kq9osNbuByLl",
        "colab_type": "code",
        "colab": {
          "base_uri": "https://localhost:8080/",
          "height": 187
        },
        "outputId": "6cf09a4e-111c-4e93-cf78-4d527a9c5c55"
      },
      "source": [
        "for train_index, test_index in kf.split(x_values):\n",
        "  x_test, x_train = x_values[test_index], x_values[train_index]\n",
        "  y_test, y_train = y_values[test_index], y_values[train_index]\n",
        "  clf = SGDClassifier(loss=\"hinge\", penalty=\"l2\")\n",
        "  clf.fit(x_train, y_train)\n",
        "  print('Accuracy SGDClassifier ', accuracy_score(y_test, clf.predict(x_test)))"
      ],
      "execution_count": 11,
      "outputs": [
        {
          "output_type": "stream",
          "text": [
            "Accuracy SGDClassifier  0.7079232017306653\n",
            "Accuracy SGDClassifier  0.8343428880475933\n",
            "Accuracy SGDClassifier  0.8255273120605733\n",
            "Accuracy SGDClassifier  0.937506760411033\n",
            "Accuracy SGDClassifier  1.0\n",
            "Accuracy SGDClassifier  0.4781233098972418\n",
            "Accuracy SGDClassifier  0.5705786911844241\n",
            "Accuracy SGDClassifier  0.7299621416982153\n",
            "Accuracy SGDClassifier  0.6399945916711736\n",
            "Accuracy SGDClassifier  0.9105462412114657\n"
          ],
          "name": "stdout"
        }
      ]
    },
    {
      "cell_type": "code",
      "metadata": {
        "id": "Ym4Qwpv8DRfg",
        "colab_type": "code",
        "colab": {
          "base_uri": "https://localhost:8080/",
          "height": 68
        },
        "outputId": "34b8a5a5-8841-422c-a160-96697f30ddc6"
      },
      "source": [
        "frame['TAC_reading'].value_counts()"
      ],
      "execution_count": 13,
      "outputs": [
        {
          "output_type": "execute_result",
          "data": {
            "text/plain": [
              "0    283207\n",
              "1     86593\n",
              "Name: TAC_reading, dtype: int64"
            ]
          },
          "metadata": {
            "tags": []
          },
          "execution_count": 13
        }
      ]
    },
    {
      "cell_type": "code",
      "metadata": {
        "id": "7rkD-Z-eEelG",
        "colab_type": "code",
        "colab": {
          "base_uri": "https://localhost:8080/",
          "height": 204
        },
        "outputId": "155096b9-2a84-4ab6-a31d-dc45836a7dcc"
      },
      "source": [
        "response_values  = []\n",
        "for train_index, test_index in kf.split(x_values):\n",
        "  x_test, x_train = x_values[test_index], x_values[train_index]\n",
        "  y_test, y_train = y_values[test_index], y_values[train_index]\n",
        "  clf = SGDClassifier(loss=\"log\", penalty=\"l2\")\n",
        "  clf.fit(x_train, y_train)\n",
        "  response_values.append(accuracy_score(y_test, clf.predict(x_test))) \n",
        "  print('Accuracy SGDClassifier Logistic regression', accuracy_score(y_test, clf.predict(x_test)))\n",
        "print('Avarage Accuracy ', np.mean(response_values))"
      ],
      "execution_count": 15,
      "outputs": [
        {
          "output_type": "stream",
          "text": [
            "Accuracy SGDClassifier Logistic regression 0.7273391022174148\n",
            "Accuracy SGDClassifier Logistic regression 0.8345051379123851\n",
            "Accuracy SGDClassifier Logistic regression 0.8255273120605733\n",
            "Accuracy SGDClassifier Logistic regression 0.937506760411033\n",
            "Accuracy SGDClassifier Logistic regression 0.9999729583558681\n",
            "Accuracy SGDClassifier Logistic regression 0.4781233098972418\n",
            "Accuracy SGDClassifier Logistic regression 0.571254732287723\n",
            "Accuracy SGDClassifier Logistic regression 0.7298269334775555\n",
            "Accuracy SGDClassifier Logistic regression 0.6399675500270416\n",
            "Accuracy SGDClassifier Logistic regression 0.9105732828555976\n",
            "Avarage Accuracy  0.7654597079502434\n"
          ],
          "name": "stdout"
        }
      ]
    },
    {
      "cell_type": "code",
      "metadata": {
        "id": "QE7YH-MPLDco",
        "colab_type": "code",
        "colab": {}
      },
      "source": [
        ""
      ],
      "execution_count": 0,
      "outputs": []
    }
  ]
}