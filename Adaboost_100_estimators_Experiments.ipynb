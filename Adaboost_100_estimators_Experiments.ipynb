{
  "nbformat": 4,
  "nbformat_minor": 0,
  "metadata": {
    "colab": {
      "name": "Adaboost - 100 estimators - Experiments",
      "provenance": []
    },
    "kernelspec": {
      "name": "python3",
      "display_name": "Python 3"
    }
  },
  "cells": [
    {
      "cell_type": "code",
      "metadata": {
        "id": "GIR4puxkAgnh",
        "colab_type": "code",
        "colab": {}
      },
      "source": [
        "import pandas as pd\n",
        "import numpy as np\n",
        "from sklearn.model_selection import train_test_split\n",
        "from sklearn.neural_network import MLPClassifier\n",
        "from sklearn.metrics import accuracy_score\n",
        "from sklearn.model_selection import KFold\n",
        "from sklearn.ensemble import AdaBoostClassifier"
      ],
      "execution_count": 0,
      "outputs": []
    },
    {
      "cell_type": "code",
      "metadata": {
        "id": "DemGQ27SAiaO",
        "colab_type": "code",
        "colab": {
          "base_uri": "https://localhost:8080/",
          "height": 139
        },
        "outputId": "64df240f-546d-4cd3-b4ae-4f25a94b760c"
      },
      "source": [
        "from google.colab import drive\n",
        "drive.mount('/gdrive')\n",
        "%cd /gdrive"
      ],
      "execution_count": 2,
      "outputs": [
        {
          "output_type": "stream",
          "text": [
            "Go to this URL in a browser: https://accounts.google.com/o/oauth2/auth?client_id=947318989803-6bn6qk8qdgf4n4g3pfee6491hc0brc4i.apps.googleusercontent.com&redirect_uri=urn%3aietf%3awg%3aoauth%3a2.0%3aoob&response_type=code&scope=email%20https%3a%2f%2fwww.googleapis.com%2fauth%2fdocs.test%20https%3a%2f%2fwww.googleapis.com%2fauth%2fdrive%20https%3a%2f%2fwww.googleapis.com%2fauth%2fdrive.photos.readonly%20https%3a%2f%2fwww.googleapis.com%2fauth%2fpeopleapi.readonly\n",
            "\n",
            "Enter your authorization code:\n",
            "··········\n",
            "Mounted at /gdrive\n",
            "/gdrive\n"
          ],
          "name": "stdout"
        }
      ]
    },
    {
      "cell_type": "code",
      "metadata": {
        "id": "c3gzUmGKAjtC",
        "colab_type": "code",
        "colab": {
          "base_uri": "https://localhost:8080/",
          "height": 238
        },
        "outputId": "814a35c7-e171-49e8-960e-9cbc8b0d502b"
      },
      "source": [
        "%cd /gdrive/My\\ Drive/CSE512Data\n",
        "!ls"
      ],
      "execution_count": 3,
      "outputs": [
        {
          "output_type": "stream",
          "text": [
            "/gdrive/My Drive/CSE512Data\n",
            "'2020-05-16 00:00:22.1814430.csv'     '2020-05-16 00:00:58.29761911.csv'\n",
            "'2020-05-16 00:00:24.9546041.csv'     '2020-05-16 00:01:00.10923012.csv'\n",
            "'2020-05-16 00:00:31.6322502.csv'      all_accelerometer_data_pids_13.csv\n",
            "'2020-05-16 00:00:36.5933463.csv'      clean_tac\n",
            "'2020-05-16 00:00:42.6664554.csv'      good_now.csv\n",
            "'2020-05-16 00:00:46.0082825.csv'      may_be_cleaned.csv\n",
            "'2020-05-16 00:00:47.8559756.csv'      mega2.csv\n",
            "'2020-05-16 00:00:47.8559756.gsheet'   mega.csv\n",
            "'2020-05-16 00:00:48.7453017.csv'      phone_types.csv\n",
            "'2020-05-16 00:00:50.5036288.csv'      pids.txt\n",
            "'2020-05-16 00:00:51.7498629.csv'      raw_tac\n",
            "'2020-05-16 00:00:52.77848910.csv'     README.txt\n"
          ],
          "name": "stdout"
        }
      ]
    },
    {
      "cell_type": "code",
      "metadata": {
        "id": "gFYXavV1AlLo",
        "colab_type": "code",
        "colab": {
          "base_uri": "https://localhost:8080/",
          "height": 34
        },
        "outputId": "6d1b8977-1093-4943-81ee-fba52112a447"
      },
      "source": [
        "frame = pd.read_csv('mega2.csv')\n",
        "def threshold(value):\n",
        "  def resp(x):\n",
        "    if x >= value:\n",
        "      return 1\n",
        "    else:\n",
        "      return 0\n",
        "  return resp\n",
        "\n",
        "frame['TAC_reading'] = frame['TAC_reading'].apply(threshold(0.08))\n",
        "frame = frame[[x for x in frame.columns if x != 'Unnamed: 0']]\n",
        "frame = frame[[x for x in frame.columns if x != 'pid']]\n",
        "frame = frame[[x for x in frame.columns if x != 'window10']]\n",
        "frame = frame[[x for x in frame.columns if x != 'win_10_x_FFT_spectral_centroid_spread']]\n",
        "frame = frame[[x for x in frame.columns if x != 'win_10_y_FFT_spectral_centroid_spread']]\n",
        "frame = frame[[x for x in frame.columns if x != 'win_10_z_FFT_spectral_centroid_spread']]\n",
        "frame = frame[[x for x in frame.columns if x != 'x_FFT_spectral_centroid_spread']]\n",
        "frame = frame[[x for x in frame.columns if x != 'y_FFT_spectral_centroid_spread']]\n",
        "frame = frame[[x for x in frame.columns if x != 'z_FFT_spectral_centroid_spread']]\n",
        "frame = frame[[x for x in frame.columns if x != 'key']]\n",
        "frame = frame.dropna()\n",
        "frame.shape"
      ],
      "execution_count": 4,
      "outputs": [
        {
          "output_type": "execute_result",
          "data": {
            "text/plain": [
              "(369800, 67)"
            ]
          },
          "metadata": {
            "tags": []
          },
          "execution_count": 4
        }
      ]
    },
    {
      "cell_type": "code",
      "metadata": {
        "id": "4HrPj4t5AnG4",
        "colab_type": "code",
        "colab": {}
      },
      "source": [
        "x_values, y_values = frame[[x for x in frame.columns if x != 'TAC_reading']].to_numpy(), frame['TAC_reading'].to_numpy()"
      ],
      "execution_count": 0,
      "outputs": []
    },
    {
      "cell_type": "code",
      "metadata": {
        "id": "ayXEIswJAox8",
        "colab_type": "code",
        "colab": {}
      },
      "source": [
        "kf = KFold(n_splits=10)"
      ],
      "execution_count": 0,
      "outputs": []
    },
    {
      "cell_type": "code",
      "metadata": {
        "id": "d9cAcbu_AqR3",
        "colab_type": "code",
        "colab": {
          "base_uri": "https://localhost:8080/",
          "height": 187
        },
        "outputId": "c64131f5-d364-4fac-d563-3971166d0701"
      },
      "source": [
        "for train_index, test_index in kf.split(x_values):\n",
        "  x_test, x_train = x_values[test_index], x_values[train_index]\n",
        "  y_test, y_train = y_values[test_index], y_values[train_index]\n",
        "  clf = AdaBoostClassifier(n_estimators=100)\n",
        "  clf.fit(x_train, y_train)\n",
        "  print('Accuracy Adaboost ', accuracy_score(y_test, clf.predict(x_test)))"
      ],
      "execution_count": 7,
      "outputs": [
        {
          "output_type": "stream",
          "text": [
            "Accuracy Adaboost  0.5479989183342348\n",
            "Accuracy Adaboost  0.814656571119524\n",
            "Accuracy Adaboost  0.7525419145484046\n",
            "Accuracy Adaboost  0.8361276365603029\n",
            "Accuracy Adaboost  0.9655219037317468\n",
            "Accuracy Adaboost  0.5443482963764197\n",
            "Accuracy Adaboost  0.5176852352623039\n",
            "Accuracy Adaboost  0.6532720389399675\n",
            "Accuracy Adaboost  0.7254732287723094\n",
            "Accuracy Adaboost  0.9017306652244457\n"
          ],
          "name": "stdout"
        }
      ]
    },
    {
      "cell_type": "code",
      "metadata": {
        "id": "XfPPTG2WAvqb",
        "colab_type": "code",
        "colab": {}
      },
      "source": [
        ""
      ],
      "execution_count": 0,
      "outputs": []
    }
  ]
}